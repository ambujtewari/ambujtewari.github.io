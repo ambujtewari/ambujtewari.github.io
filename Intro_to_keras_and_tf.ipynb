{
  "cells": [
    {
      "cell_type": "markdown",
      "source": [
        "**Notebook credit**: based on the F. Chollet's original notebook [here](https://github.com/fchollet/deep-learning-with-python-notebooks/blob/master/chapter03_introduction-to-keras-and-tf.ipynb)."
      ],
      "metadata": {
        "id": "MhIU9gBro-7S"
      }
    },
    {
      "cell_type": "markdown",
      "metadata": {
        "id": "TYRiFDWLoPv2"
      },
      "source": [
        "# Introduction to Keras and TensorFlow"
      ]
    },
    {
      "cell_type": "markdown",
      "source": [
        "## The Python landscape for machine learning and deep learning\n",
        "\n",
        "- [Python](https://www.python.org/) is an interpreted high-level general-purpose programming language.\n",
        "- [NumPy](https://numpy.org/) is a Python library for manipulating multi-dimensional arrays and matrices. Allows Python to be used for numerical computing.\n",
        "- [Matplotlib](https://matplotlib.org/) is a Python library for creating plots. Works nicely with NumPy. Its `pyplot` module provides a MATLAB like interface.\n",
        "- [Scikit-learn](https://scikit-learn.org/) is a Python library built on top of NumPy and Matplotlib. This is the main library for machine learning especially for methods not based on neural networks.\n",
        "- [TensorFlow](https://www.tensorflow.org/) is a Python library developed by Google for training deep learning models on CPUs, GPUs, and TPUs. TF2 was released in 2019.\n",
        "- [Keras](https://keras.io/) is built on top of TensorFlow and provides consistent & simple APIs, minimizes the number of user actions required for common use cases, and provides clear & actionable error messages. The author of Keras, Francois Chollet, is also the author of the book *Deep Learning with Python* (2nd ed).\n",
        "\n",
        "\n"
      ],
      "metadata": {
        "id": "8kiYnjerqz7q"
      }
    },
    {
      "cell_type": "markdown",
      "metadata": {
        "id": "GRZBeVwkoPv3"
      },
      "source": [
        "## What's TensorFlow?\n",
        "\n",
        "Like NumPy, TF's main purpose is to enable engineers/researchers to manipulate numerical tensors. But TensorFlow goes far beyond the scope of NumPy:\n",
        "\n",
        "- It can *automatically compute the gradient* of any differentiable expression, making it highly suitable for machine learning.\n",
        "- It *can run not only on CPUs, but also on GPUs and TPUs*, highly parallel hardware accelerators.\n",
        "- Computation defined in TensorFlow can be *easily distributed across many machines*.\n",
        "- TensorFlow programs *can be exported to other runtimes*, such as C++, JavaScript (for browser-based applications), or TensorFlow Lite (for applications running on mobile devices or embedded devices), etc. This makes TensorFlow applications easy to deploy in practical settings.\n",
        "\n",
        "More than just a library, TF is an ecosystem. For example, there is:\n",
        "\n",
        "- TF-Agents for reinforcement learning research\n",
        "- TensorFlow Hub for pretrained models\n",
        "- TensorFlow Quantum for quantum machine learning"
      ]
    },
    {
      "cell_type": "markdown",
      "metadata": {
        "id": "6bn7FF4moPv3"
      },
      "source": [
        "## What's Keras?\n",
        "\n",
        "<img src=\"https://github.com/ambujtewari/stats315-winter2022/raw/main/images/keras_and_tf.png\" alt=\"picture\" width=\"800\">"
      ]
    },
    {
      "cell_type": "markdown",
      "metadata": {
        "id": "JO50Df0joPv4"
      },
      "source": [
        "## Keras and TensorFlow: A brief history\n",
        "\n",
        "- Keras first released March 2015\n",
        "- TF first released November 2015\n",
        "- Keras originally built on top of Theano, a precursor of TF\n",
        "- In late 2015, Keras refactored to allow multiple backend: Theano or TF\n",
        "- In 2017, CNTK (Microsoft) and MXNet (Amazon) were added as backends\n",
        "- 2016-2017: Keras becomes well-known as a user-friendly way to develop TF applications\n",
        "- By late 2017, majority of TF users are using Kera\n",
        "- In 2018, TF leadership decides to pick Keras as TF's official high-level API\n",
        "- Keras API is front and center in TensorFlow 2.0, released in September 2019\n",
        "\n",
        "\n",
        "Nowadays, both Theano and CNTK are out of development, and MXNet is not widely used outside of Amazon. Keras is back to being a single-backend API—on top of TensorFlow."
      ]
    },
    {
      "cell_type": "markdown",
      "metadata": {
        "id": "k_o7WyoLoPv4"
      },
      "source": [
        "## Setting up a deep-learning workspace\n",
        "\n",
        "- Recommended, although not strictly necessary, that you run deep learning code on a modern NVIDIA GPU\n",
        "- Some applications will be excruciatingly slow on CPU\n",
        "- Even for applications that can be run on CPU, you’ll generally see the speed-up of 5x-10x by using GPU\n",
        "\n",
        "To do deep learning on a GPU, you have three options:\n",
        "1. Buy and install a physical NVIDIA GPU on your workstation.\n",
        "2. Use GPU instances on Google Cloud or AWS EC2.\n",
        "3. Use the free GPU runtime from Colaboratory (Colab), a hosted notebook service offered by Google \n",
        "\n",
        "In 315, we will use option no. 3. \n",
        "\n",
        "- Colaboratory is the easiest way to get started\n",
        "- Requires no hardware purchase and no software installation—just open a tab in your browser and start coding\n",
        "- Free version of Colab is only suitable for small workloads"
      ]
    },
    {
      "cell_type": "markdown",
      "metadata": {
        "id": "tB9_iEEZoPv4"
      },
      "source": [
        "### Jupyter notebooks: The preferred way to run deep-learning experiments\n",
        "\n",
        "- They’re widely used in the data science and machine learning communities.\n",
        "- It mixes the ability to execute Python (and many other supported languages including R and Julia) code with rich text-editing capabilities\n",
        "- Allows you to break up long experiments into smaller pieces that can be executed independently\n",
        "  - makes development interactive\n",
        "  - you don’t have to rerun all previous code if something goes wrong later\n",
        "\n",
        "Regarding origin of the name \"Jupyter\":\n",
        "\n",
        "\n",
        "> The name “Jupyter” is a strong reference to Galileo, who detailed his discovery of the Moons of Jupiter in his astronomical notebooks. The name is also a play on the languages Julia, Python, and R, which are pillars of the modern scientific world. [source](https://blog.jupyter.org/i-python-you-r-we-julia-baf064ca1fb6)\n",
        "\n"
      ]
    },
    {
      "cell_type": "markdown",
      "metadata": {
        "id": "WAv41tgSoPv5"
      },
      "source": [
        "### Using Colaboratory"
      ]
    },
    {
      "cell_type": "markdown",
      "metadata": {
        "id": "ZKzpdcK0oPv5"
      },
      "source": [
        "#### First steps with Colaboratory\n",
        "\n",
        "- Code cells: Shift+Enter will execute them\n",
        "- Text cells: Shift+Enter will render them. Can use [markdown and HTML](https://jupyter-notebook.readthedocs.io/en/stable/examples/Notebook/Working%20With%20Markdown%20Cells.html). Plus you can use LaTeX to typeset equations like $e^{i \\pi} + 1 = 0$"
      ]
    },
    {
      "cell_type": "markdown",
      "metadata": {
        "id": "zZ26qzY4oPv6"
      },
      "source": [
        "#### Installing packages with pip\n",
        "\n",
        "Colab has many packages including TensorFlow and Keras. A command in a code cell that begins with an exclamation mark passes the command to the shell."
      ]
    },
    {
      "cell_type": "code",
      "source": [
        "!pip list -v | grep \"keras\\|tensorflow\""
      ],
      "metadata": {
        "colab": {
          "base_uri": "https://localhost:8080/"
        },
        "id": "QnVpX5-pZ1-L",
        "outputId": "63bcbf74-14de-49e4-dc5e-ab1efadef21b"
      },
      "execution_count": 1,
      "outputs": [
        {
          "output_type": "stream",
          "name": "stdout",
          "text": [
            "keras                         2.7.0          /usr/local/lib/python3.7/dist-packages pip\n",
            "keras-vis                     0.4.1          /usr/local/lib/python3.7/dist-packages pip\n",
            "tensorflow                    2.7.0          /usr/local/lib/python3.7/dist-packages pip\n",
            "tensorflow-datasets           4.0.1          /usr/local/lib/python3.7/dist-packages pip\n",
            "tensorflow-estimator          2.7.0          /usr/local/lib/python3.7/dist-packages pip\n",
            "tensorflow-gcs-config         2.7.0          /usr/local/lib/python3.7/dist-packages pip\n",
            "tensorflow-hub                0.12.0         /usr/local/lib/python3.7/dist-packages pip\n",
            "tensorflow-io-gcs-filesystem  0.23.1         /usr/local/lib/python3.7/dist-packages pip\n",
            "tensorflow-metadata           1.5.0          /usr/local/lib/python3.7/dist-packages pip\n",
            "tensorflow-probability        0.15.0         /usr/local/lib/python3.7/dist-packages pip\n"
          ]
        }
      ]
    },
    {
      "cell_type": "markdown",
      "source": [
        "If a package you need isn't installed you can install it using\n",
        "```\n",
        "!pip install <package-name>\n",
        "```\n",
        "but note that the installation will have to be repeated each time the notebook is run."
      ],
      "metadata": {
        "id": "u5SHDAh8ai7x"
      }
    },
    {
      "cell_type": "markdown",
      "metadata": {
        "id": "A0wg3xv5oPv9"
      },
      "source": [
        "#### Using the GPU runtime\n",
        "\n",
        "To use the GPU runtime with Colab, select `Runtime > Change Runtime Type` in the menu and select GPU for the Hardware Accelerator "
      ]
    },
    {
      "cell_type": "code",
      "source": [
        "import tensorflow as tf\n",
        "print(\"Num GPUs Available: \", len(tf.config.list_physical_devices('GPU')))"
      ],
      "metadata": {
        "colab": {
          "base_uri": "https://localhost:8080/"
        },
        "id": "BVJsqzVk6j4T",
        "outputId": "e9cc685a-187d-47f6-ab09-76e140609708"
      },
      "execution_count": null,
      "outputs": [
        {
          "output_type": "stream",
          "name": "stdout",
          "text": [
            "Num GPUs Available:  0\n"
          ]
        }
      ]
    },
    {
      "cell_type": "markdown",
      "metadata": {
        "id": "Xuld6yLBoPv-"
      },
      "source": [
        "## First steps with TensorFlow\n",
        "\n",
        "Training a neural network revolves around the following concepts:\n",
        "\n",
        "First, low-level tensor manipulations which translate to TensorFlow APIs:\n",
        "- *Tensors*, including special tensors that store the network’s state (variables)\n",
        "- *Tensor operations* such as addition, `relu`, `matmul`\n",
        "- *Backpropagation*, a way to compute the gradient of mathematical expressions (handled in TensorFlow via the `GradientTape` object)\n",
        "\n",
        "Second, high-level deep learning concepts which translate to Keras APIs:\n",
        "- *Layers*, which are combined into a *model*\n",
        "- A *loss function*, which is used by the optimizer to assess how good a model is\n",
        "- An *optimizer*, which determines how learning proceeds\n",
        "- *Metrics* to evaluate model performance, such as accuracy\n",
        "- A *training loop* that performs mini-batch stochastic gradient descent"
      ]
    },
    {
      "cell_type": "markdown",
      "metadata": {
        "id": "lZEBqulloPv-"
      },
      "source": [
        "#### Constant tensors and variables"
      ]
    },
    {
      "cell_type": "markdown",
      "metadata": {
        "id": "Y9gImRXMoPv-"
      },
      "source": [
        "**All-ones or all-zeros tensors**"
      ]
    },
    {
      "cell_type": "code",
      "execution_count": null,
      "metadata": {
        "id": "GpYd9w9ioPv_",
        "colab": {
          "base_uri": "https://localhost:8080/"
        },
        "outputId": "d02a51ba-d5b0-4fea-cf7c-c094d1e0c74b"
      },
      "outputs": [
        {
          "output_type": "stream",
          "name": "stdout",
          "text": [
            "tf.Tensor(\n",
            "[[1.]\n",
            " [1.]], shape=(2, 1), dtype=float32)\n"
          ]
        }
      ],
      "source": [
        "x = tf.ones(shape=(2, 1)) # NumPy equivalent: np.ones(shape=(2, 1))\n",
        "print(x)"
      ]
    },
    {
      "cell_type": "code",
      "execution_count": null,
      "metadata": {
        "id": "6D7Uu0GIoPwA",
        "colab": {
          "base_uri": "https://localhost:8080/"
        },
        "outputId": "584840ca-1bd8-4b16-f96a-e807dd379b06"
      },
      "outputs": [
        {
          "output_type": "stream",
          "name": "stdout",
          "text": [
            "tf.Tensor(\n",
            "[[0.]\n",
            " [0.]], shape=(2, 1), dtype=float32)\n"
          ]
        }
      ],
      "source": [
        "x = tf.zeros(shape=(2, 1)) # NumPy equivalent: np.zeros(shape=(2, 1))\n",
        "print(x)"
      ]
    },
    {
      "cell_type": "markdown",
      "source": [
        ""
      ],
      "metadata": {
        "id": "JN2t9H_280nx"
      }
    },
    {
      "cell_type": "markdown",
      "metadata": {
        "id": "w4gqhXOyoPwA"
      },
      "source": [
        "**Random tensors**"
      ]
    },
    {
      "cell_type": "code",
      "execution_count": null,
      "metadata": {
        "id": "W0Cy91nKoPwA",
        "colab": {
          "base_uri": "https://localhost:8080/"
        },
        "outputId": "5ea23a1c-5b60-4e3f-ecfd-b4c739fa93e2"
      },
      "outputs": [
        {
          "output_type": "stream",
          "name": "stdout",
          "text": [
            "tf.Tensor(\n",
            "[[ 0.14322898]\n",
            " [ 1.2620122 ]\n",
            " [-2.0269113 ]], shape=(3, 1), dtype=float32)\n"
          ]
        }
      ],
      "source": [
        "x = tf.random.normal(shape=(3, 1), mean=0., stddev=1.)\n",
        "print(x)"
      ]
    },
    {
      "cell_type": "code",
      "execution_count": null,
      "metadata": {
        "id": "hn2-26sSoPwB",
        "colab": {
          "base_uri": "https://localhost:8080/"
        },
        "outputId": "560baddf-aeb3-44cd-d0d7-73d494f41444"
      },
      "outputs": [
        {
          "output_type": "stream",
          "name": "stdout",
          "text": [
            "tf.Tensor(\n",
            "[[0.45047688]\n",
            " [0.49984264]\n",
            " [0.7007725 ]], shape=(3, 1), dtype=float32)\n"
          ]
        }
      ],
      "source": [
        "x = tf.random.uniform(shape=(3, 1), minval=0., maxval=1.)\n",
        "print(x)"
      ]
    },
    {
      "cell_type": "markdown",
      "source": [
        "**NumPy compatibility**\n",
        "\n",
        "Converting between a TensorFlow tf.Tensors and a NumPy ndarray is easy:\n",
        "\n",
        "- TensorFlow operations automatically convert NumPy ndarrays to Tensors.\n",
        "- NumPy operations automatically convert Tensors to NumPy ndarrays.\n",
        "- Tensors are explicitly converted to NumPy ndarrays using their `.numpy()` method. "
      ],
      "metadata": {
        "id": "QhFr8xx49Asg"
      }
    },
    {
      "cell_type": "code",
      "source": [
        "import numpy as np\n",
        "\n",
        "ndarray = np.ones([3, 3])\n",
        "\n",
        "print(\"TensorFlow operations convert numpy arrays to Tensors automatically\")\n",
        "tensor = tf.multiply(ndarray, 42)\n",
        "print(tensor)\n",
        "\n",
        "\n",
        "print(\"And NumPy operations convert Tensors to numpy arrays automatically\")\n",
        "print(np.add(tensor, 1))\n",
        "\n",
        "print(\"The .numpy() method explicitly converts a Tensor to a numpy array\")\n",
        "print(tensor.numpy())"
      ],
      "metadata": {
        "colab": {
          "base_uri": "https://localhost:8080/"
        },
        "id": "DHmr9Itk9Pfh",
        "outputId": "96908e50-f909-4dfe-b4e4-7a217558bc55"
      },
      "execution_count": null,
      "outputs": [
        {
          "output_type": "stream",
          "name": "stdout",
          "text": [
            "TensorFlow operations convert numpy arrays to Tensors automatically\n",
            "tf.Tensor(\n",
            "[[42. 42. 42.]\n",
            " [42. 42. 42.]\n",
            " [42. 42. 42.]], shape=(3, 3), dtype=float64)\n",
            "And NumPy operations convert Tensors to numpy arrays automatically\n",
            "[[43. 43. 43.]\n",
            " [43. 43. 43.]\n",
            " [43. 43. 43.]]\n",
            "The .numpy() method explicitly converts a Tensor to a numpy array\n",
            "[[42. 42. 42.]\n",
            " [42. 42. 42.]\n",
            " [42. 42. 42.]]\n"
          ]
        }
      ]
    },
    {
      "cell_type": "markdown",
      "metadata": {
        "id": "x9PtOlYToPwB"
      },
      "source": [
        "**NumPy arrays are assignable**"
      ]
    },
    {
      "cell_type": "code",
      "execution_count": null,
      "metadata": {
        "id": "Md2wWBtIoPwB"
      },
      "outputs": [],
      "source": [
        "import numpy as np\n",
        "x = np.ones(shape=(2, 2))\n",
        "x[0, 0] = 0."
      ]
    },
    {
      "cell_type": "markdown",
      "source": [
        "**TensorFlow tensors are not assignable**"
      ],
      "metadata": {
        "id": "BX8ULxgx9wbO"
      }
    },
    {
      "cell_type": "code",
      "source": [
        "try:\n",
        "  x = tf.ones(shape=(2, 2))\n",
        "  x[0, 0] = 0\n",
        "except Exception as e:\n",
        "  print(e)"
      ],
      "metadata": {
        "colab": {
          "base_uri": "https://localhost:8080/"
        },
        "id": "mJAwYiJh9y-7",
        "outputId": "5140a1c9-8567-4531-e2f6-3969e96fea17"
      },
      "execution_count": null,
      "outputs": [
        {
          "output_type": "stream",
          "name": "stdout",
          "text": [
            "'tensorflow.python.framework.ops.EagerTensor' object does not support item assignment\n"
          ]
        }
      ]
    },
    {
      "cell_type": "markdown",
      "metadata": {
        "id": "nBVQbEmHoPwB"
      },
      "source": [
        "**Creating a TensorFlow variable**"
      ]
    },
    {
      "cell_type": "code",
      "execution_count": null,
      "metadata": {
        "id": "AIdTiStnoPwB",
        "colab": {
          "base_uri": "https://localhost:8080/"
        },
        "outputId": "5861f989-9fd3-4057-a58e-c84e30beb697"
      },
      "outputs": [
        {
          "output_type": "stream",
          "name": "stdout",
          "text": [
            "<tf.Variable 'Variable:0' shape=(3, 1) dtype=float32, numpy=\n",
            "array([[ 2.0190206],\n",
            "       [ 0.9159901],\n",
            "       [-0.2999878]], dtype=float32)>\n"
          ]
        }
      ],
      "source": [
        "v = tf.Variable(initial_value=tf.random.normal(shape=(3, 1)))\n",
        "print(v)"
      ]
    },
    {
      "cell_type": "markdown",
      "metadata": {
        "id": "DdLQQk9aoPwC"
      },
      "source": [
        "**Assigning a value to a TensorFlow variable**"
      ]
    },
    {
      "cell_type": "code",
      "execution_count": null,
      "metadata": {
        "id": "fcBW3xCZoPwC",
        "colab": {
          "base_uri": "https://localhost:8080/"
        },
        "outputId": "5f6f848f-6958-4a4b-a422-75bea678d1b0"
      },
      "outputs": [
        {
          "output_type": "execute_result",
          "data": {
            "text/plain": [
              "<tf.Variable 'UnreadVariable' shape=(3, 1) dtype=float32, numpy=\n",
              "array([[1.],\n",
              "       [1.],\n",
              "       [1.]], dtype=float32)>"
            ]
          },
          "metadata": {},
          "execution_count": 11
        }
      ],
      "source": [
        "v.assign(tf.ones((3, 1)))"
      ]
    },
    {
      "cell_type": "markdown",
      "metadata": {
        "id": "KTrZFGqpoPwC"
      },
      "source": [
        "**Assigning a value to a subset of a TensorFlow variable**"
      ]
    },
    {
      "cell_type": "code",
      "execution_count": null,
      "metadata": {
        "id": "oQb7xB-FoPwC",
        "colab": {
          "base_uri": "https://localhost:8080/"
        },
        "outputId": "b15a05b5-190f-4b1e-a5c5-9b6ab791459b"
      },
      "outputs": [
        {
          "output_type": "execute_result",
          "data": {
            "text/plain": [
              "<tf.Variable 'UnreadVariable' shape=(3, 1) dtype=float32, numpy=\n",
              "array([[3.],\n",
              "       [1.],\n",
              "       [1.]], dtype=float32)>"
            ]
          },
          "metadata": {},
          "execution_count": 12
        }
      ],
      "source": [
        "v[0, 0].assign(3.)"
      ]
    },
    {
      "cell_type": "markdown",
      "metadata": {
        "id": "f8O-h1KVoPwC"
      },
      "source": [
        "**Using `assign_add`**"
      ]
    },
    {
      "cell_type": "code",
      "execution_count": null,
      "metadata": {
        "id": "3GIvdBisoPwC",
        "colab": {
          "base_uri": "https://localhost:8080/"
        },
        "outputId": "db5eb6d4-d132-47d1-8e5e-5c30b443dab7"
      },
      "outputs": [
        {
          "output_type": "execute_result",
          "data": {
            "text/plain": [
              "<tf.Variable 'UnreadVariable' shape=(3, 1) dtype=float32, numpy=\n",
              "array([[4.],\n",
              "       [2.],\n",
              "       [2.]], dtype=float32)>"
            ]
          },
          "metadata": {},
          "execution_count": 13
        }
      ],
      "source": [
        "v.assign_add(tf.ones((3, 1)))"
      ]
    },
    {
      "cell_type": "markdown",
      "source": [
        "**Using `assign_sub`**"
      ],
      "metadata": {
        "id": "HJJhIhMQ-lXq"
      }
    },
    {
      "cell_type": "code",
      "source": [
        "v.assign_sub(tf.ones((3, 1)))"
      ],
      "metadata": {
        "colab": {
          "base_uri": "https://localhost:8080/"
        },
        "id": "8jVv4CLa-lfj",
        "outputId": "3750dad8-87a5-4629-8c2d-4af8fc5302f4"
      },
      "execution_count": null,
      "outputs": [
        {
          "output_type": "execute_result",
          "data": {
            "text/plain": [
              "<tf.Variable 'UnreadVariable' shape=(3, 1) dtype=float32, numpy=\n",
              "array([[3.],\n",
              "       [1.],\n",
              "       [1.]], dtype=float32)>"
            ]
          },
          "metadata": {},
          "execution_count": 14
        }
      ]
    },
    {
      "cell_type": "markdown",
      "metadata": {
        "id": "GImF32-5oPwC"
      },
      "source": [
        "#### Tensor operations: Doing math in TensorFlow\n",
        "\n",
        "Like NumPy, TensorFlow offers many math operations on tensors"
      ]
    },
    {
      "cell_type": "markdown",
      "metadata": {
        "id": "iIC6_XqLoPwD"
      },
      "source": [
        "**A few basic math operations**"
      ]
    },
    {
      "cell_type": "code",
      "execution_count": null,
      "metadata": {
        "id": "6CYejKWBoPwD",
        "colab": {
          "base_uri": "https://localhost:8080/"
        },
        "outputId": "3c7d2bb2-201c-40ec-d8e5-27b336d6e0bd"
      },
      "outputs": [
        {
          "output_type": "stream",
          "name": "stdout",
          "text": [
            "a=\n",
            " tf.Tensor(\n",
            "[[1. 1.]\n",
            " [1. 1.]], shape=(2, 2), dtype=float32)\n",
            "b=\n",
            " tf.Tensor(\n",
            "[[1. 1.]\n",
            " [1. 1.]], shape=(2, 2), dtype=float32)\n",
            "c=\n",
            " tf.Tensor(\n",
            "[[1. 1.]\n",
            " [1. 1.]], shape=(2, 2), dtype=float32)\n",
            "d=\n",
            " tf.Tensor(\n",
            "[[2. 2.]\n",
            " [2. 2.]], shape=(2, 2), dtype=float32)\n",
            "e=\n",
            " tf.Tensor(\n",
            "[[2. 2.]\n",
            " [2. 2.]], shape=(2, 2), dtype=float32)\n",
            "e=\n",
            " tf.Tensor(\n",
            "[[4. 4.]\n",
            " [4. 4.]], shape=(2, 2), dtype=float32)\n"
          ]
        }
      ],
      "source": [
        "a = tf.ones((2, 2))\n",
        "print(\"a=\\n\", a)\n",
        "b = tf.square(a)    # elementwise square\n",
        "print(\"b=\\n\", b)\n",
        "c = tf.sqrt(a)      # elementwise square root\n",
        "print(\"c=\\n\", c)\n",
        "d = b + c           # elementwise sum\n",
        "print(\"d=\\n\", d)\n",
        "e = tf.matmul(a, b) # matrix multiplication\n",
        "print(\"e=\\n\", e)\n",
        "e *= d              # elementwise multiplication\n",
        "print(\"e=\\n\", e)"
      ]
    },
    {
      "cell_type": "markdown",
      "metadata": {
        "id": "GoslTSOsoPwD"
      },
      "source": [
        "#### The GradientTape API"
      ]
    },
    {
      "cell_type": "markdown",
      "source": [
        "**Backpropagation**\n",
        "\n",
        "Training a model via (minibatch stochastic) gradient descent involves computing gradients of the loss function w.r.t. model parameters. For example, consider the following two dense layer architecture (don't worry if you don't understand everything, we'll introduce Keras fundamentals soon!)\n",
        "\n",
        "```\n",
        "from tensorflow import keras\n",
        "from tensorflow.keras import layers\n",
        "model = keras.Sequential([\n",
        "    layers.Dense(512, activation=\"relu\"),\n",
        "    layers.Dense(10, activation=\"softmax\")\n",
        "])\n",
        "```\n",
        "\n",
        "Let `W1, b1, W2, b2` represent the weights and biases inside the two layers. Then the loss value could be expressed in code as\n",
        "\n",
        "```\n",
        "loss_value = loss(y_true, softmax(dot(relu(dot(inputs, W1) + b1), W2) + b2))\n",
        "```\n",
        "\n",
        "Since all functions involved above--`loss`, `softmax`, matrix multiplication, and `relu`--are differentiable (the `relu` case is not entirely straightforward, we can discuss more if there's interest), we can use _chain rule_ to compute the derivate of `loss_value` w.r.t. model parameters.\n",
        "\n",
        "**Backpropagation**: application of chain rule to the computation of the gradient values of a neural network"
      ],
      "metadata": {
        "id": "HlguoYgWXG48"
      }
    },
    {
      "cell_type": "markdown",
      "source": [
        "**Automatic differentiation with computation graphs**\n",
        "\n",
        "Below is the computation graph of the simple two layer NN we saw above.\n",
        "\n",
        "<img src=\"https://github.com/ambujtewari/stats315-winter2022/raw/main/images/computation_graph_example.png\" alt=\"picture\" height=\"500\">\n",
        "\n",
        "- _Computation graph_ is a data structure at the heart of TensorFlow\n",
        "- Computation graphs enable us to _treat computation as data_\n",
        "- An _automatic differentiation_ program receives a computation graph as input and can automatically generate the derivative of the expression it represents"
      ],
      "metadata": {
        "id": "EViJLjGialPB"
      }
    },
    {
      "cell_type": "markdown",
      "source": [
        "Let's consider a simplified version of the above figure:\n",
        "\n",
        "<img src=\"https://github.com/ambujtewari/stats315-winter2022/raw/main/images/computation_graph_simple.png\" alt=\"picture\" height=\"400\">\n",
        "\n",
        "- we have only one layer\n",
        "- all variables are scalars\n",
        "- we will use absolute value error: `loss_val = abs(y_true - y)`\n",
        "- we are interested in computing `grad(loss_val, b)` and `grad(loss _val, w)`\n",
        "\n",
        "Suppose `x = 2`, `y_true = 4` and we want to evaluate the derivatives at `w = 3` and `b = 1`.\n"
      ],
      "metadata": {
        "id": "oxqOcGOLfmjd"
      }
    },
    {
      "cell_type": "markdown",
      "source": [
        "Let's first do it \"by hand\".\n",
        "\n",
        "$f(w,b) = |y_{true} - (wx + b)| = |4 - (2w + b)|$\n",
        "\n",
        "**Diff. w.r.t. w**\n",
        "\n",
        "$f(w) = |4 - (2w + 1)| = g(h(H(w)))$ where $g(u) = |4-u|, h(u) = u+1, H(u) = 2u$\n",
        "\n",
        "$ \\frac{\\partial f}{\\partial w} = g'(h(H(w))) \\times h'(H(w)) \\times H'(w) = g'(7) \\times h'(6) \\times H'(3) = 1 \\times 1 \\times 2 = 2$\n",
        "\n",
        "**Diff. w.r.t. b**\n",
        "\n",
        "$f(b) = |4 - (6 + b)| = g(h(b))$ where $g(u) = |4-u|, h(u) = 6+u$\n",
        "\n",
        "$ \\frac{\\partial f}{\\partial b} = g'(h(b)) \\times h'(b) = g'(7) \\times h'(1) = 1 \\times 1 = 1$"
      ],
      "metadata": {
        "id": "oig1sWtWgmPo"
      }
    },
    {
      "cell_type": "markdown",
      "metadata": {
        "id": "Lpr4C-fIoPwD"
      },
      "source": [
        "**Using the `GradientTape`**"
      ]
    },
    {
      "cell_type": "code",
      "execution_count": null,
      "metadata": {
        "id": "bTopza7boPwD"
      },
      "outputs": [],
      "source": [
        "input_var = tf.Variable(initial_value=3.)\n",
        "with tf.GradientTape() as tape:\n",
        "   result = tf.square(input_var)\n",
        "gradient = tape.gradient(result, input_var)"
      ]
    },
    {
      "cell_type": "markdown",
      "metadata": {
        "id": "tajGZkbdoPwD"
      },
      "source": [
        "**Using `GradientTape` with constant tensor inputs**"
      ]
    },
    {
      "cell_type": "code",
      "execution_count": null,
      "metadata": {
        "id": "3Qf3r9PhoPwD"
      },
      "outputs": [],
      "source": [
        "input_const = tf.constant(3.)\n",
        "with tf.GradientTape() as tape:\n",
        "   tape.watch(input_const)\n",
        "   result = tf.square(input_const)\n",
        "gradient = tape.gradient(result, input_const)"
      ]
    },
    {
      "cell_type": "markdown",
      "metadata": {
        "id": "qZI4zc2AoPwE"
      },
      "source": [
        "**Using nested gradient tapes to compute second-order gradients**"
      ]
    },
    {
      "cell_type": "code",
      "execution_count": null,
      "metadata": {
        "id": "Z29Ulod5oPwE"
      },
      "outputs": [],
      "source": [
        "time = tf.Variable(0.)\n",
        "with tf.GradientTape() as outer_tape:\n",
        "    with tf.GradientTape() as inner_tape:\n",
        "        position =  4.9 * time ** 2\n",
        "    speed = inner_tape.gradient(position, time)\n",
        "acceleration = outer_tape.gradient(speed, time)"
      ]
    },
    {
      "cell_type": "markdown",
      "metadata": {
        "id": "oJurpyqtoPwE"
      },
      "source": [
        "#### An end-to-end example: A linear classifier in pure TensorFlow"
      ]
    },
    {
      "cell_type": "markdown",
      "metadata": {
        "id": "q2asERcioPwE"
      },
      "source": [
        "**Generating two classes of random points in a 2D plane**"
      ]
    },
    {
      "cell_type": "code",
      "execution_count": null,
      "metadata": {
        "id": "HcqvKL6MoPwE"
      },
      "outputs": [],
      "source": [
        "num_samples_per_class = 1000\n",
        "negative_samples = np.random.multivariate_normal(\n",
        "    mean=[0, 3],\n",
        "    cov=[[1, 0.5],[0.5, 1]],\n",
        "    size=num_samples_per_class)\n",
        "positive_samples = np.random.multivariate_normal(\n",
        "    mean=[3, 0],\n",
        "    cov=[[1, 0.5],[0.5, 1]],\n",
        "    size=num_samples_per_class)"
      ]
    },
    {
      "cell_type": "markdown",
      "metadata": {
        "id": "klap3gDboPwE"
      },
      "source": [
        "**Stacking the two classes into an array with shape (2000, 2)**"
      ]
    },
    {
      "cell_type": "code",
      "execution_count": null,
      "metadata": {
        "id": "PTELfL9joPwE"
      },
      "outputs": [],
      "source": [
        "inputs = np.vstack((negative_samples, positive_samples)).astype(np.float32)"
      ]
    },
    {
      "cell_type": "markdown",
      "metadata": {
        "id": "1509kksyoPwF"
      },
      "source": [
        "**Generating the corresponding targets (0 and 1)**"
      ]
    },
    {
      "cell_type": "code",
      "execution_count": null,
      "metadata": {
        "id": "vpmIpVJ0oPwF"
      },
      "outputs": [],
      "source": [
        "targets = np.vstack((np.zeros((num_samples_per_class, 1), dtype=\"float32\"),\n",
        "                     np.ones((num_samples_per_class, 1), dtype=\"float32\")))"
      ]
    },
    {
      "cell_type": "markdown",
      "metadata": {
        "id": "ohEc6zG-oPwF"
      },
      "source": [
        "**Plotting the two point classes**"
      ]
    },
    {
      "cell_type": "code",
      "execution_count": null,
      "metadata": {
        "id": "Wht4PDt0oPwF",
        "colab": {
          "base_uri": "https://localhost:8080/",
          "height": 265
        },
        "outputId": "fb9649ca-20d0-443f-a1f6-f941a92adda9"
      },
      "outputs": [
        {
          "output_type": "display_data",
          "data": {
            "image/png": "[encoded data removed]",
            "text/plain": [
              "<Figure size 432x288 with 1 Axes>"
            ]
          },
          "metadata": {
            "needs_background": "light"
          }
        }
      ],
      "source": [
        "import matplotlib.pyplot as plt\n",
        "plt.scatter(inputs[:, 0], inputs[:, 1], c=targets[:, 0])\n",
        "plt.show()"
      ]
    },
    {
      "cell_type": "markdown",
      "metadata": {
        "id": "hwD5xwY1oPwF"
      },
      "source": [
        "**Creating the linear classifier variables**"
      ]
    },
    {
      "cell_type": "code",
      "execution_count": null,
      "metadata": {
        "id": "iPospICioPwF"
      },
      "outputs": [],
      "source": [
        "input_dim = 2\n",
        "output_dim = 1\n",
        "W = tf.Variable(initial_value=tf.random.uniform(shape=(input_dim, output_dim)))\n",
        "b = tf.Variable(initial_value=tf.zeros(shape=(output_dim,)))"
      ]
    },
    {
      "cell_type": "markdown",
      "metadata": {
        "id": "wc6qH76BoPwF"
      },
      "source": [
        "**The forward pass function**"
      ]
    },
    {
      "cell_type": "code",
      "execution_count": null,
      "metadata": {
        "id": "yauA6xIXoPwF"
      },
      "outputs": [],
      "source": [
        "def model(inputs):\n",
        "    return tf.matmul(inputs, W) + b"
      ]
    },
    {
      "cell_type": "markdown",
      "metadata": {
        "id": "8-PCXudRoPwG"
      },
      "source": [
        "**The mean squared error loss function**"
      ]
    },
    {
      "cell_type": "code",
      "execution_count": null,
      "metadata": {
        "id": "W7YUv_wPoPwG"
      },
      "outputs": [],
      "source": [
        "def square_loss(targets, predictions):\n",
        "    per_sample_losses = tf.square(targets - predictions)\n",
        "    return tf.reduce_mean(per_sample_losses)"
      ]
    },
    {
      "cell_type": "markdown",
      "metadata": {
        "id": "0QgDKf8ioPwG"
      },
      "source": [
        "**The training step function**"
      ]
    },
    {
      "cell_type": "code",
      "execution_count": null,
      "metadata": {
        "id": "xy3FP1gHoPwG"
      },
      "outputs": [],
      "source": [
        "learning_rate = 0.1\n",
        "\n",
        "def training_step(inputs, targets):\n",
        "    with tf.GradientTape() as tape:\n",
        "        predictions = model(inputs)\n",
        "        loss = square_loss(predictions, targets)\n",
        "    grad_loss_wrt_W, grad_loss_wrt_b = tape.gradient(loss, [W, b])\n",
        "    W.assign_sub(grad_loss_wrt_W * learning_rate)\n",
        "    b.assign_sub(grad_loss_wrt_b * learning_rate)\n",
        "    return loss"
      ]
    },
    {
      "cell_type": "markdown",
      "metadata": {
        "id": "gOkShbzooPwG"
      },
      "source": [
        "**The batch training loop**"
      ]
    },
    {
      "cell_type": "code",
      "execution_count": null,
      "metadata": {
        "id": "MVK-Lx4ToPwG",
        "colab": {
          "base_uri": "https://localhost:8080/"
        },
        "outputId": "8e2137bc-1a1e-4d43-8d5e-6c994c46a6fc"
      },
      "outputs": [
        {
          "output_type": "stream",
          "name": "stdout",
          "text": [
            "Loss at step 0: 2.7392\n",
            "Loss at step 1: 0.4365\n",
            "Loss at step 2: 0.1712\n",
            "Loss at step 3: 0.1220\n",
            "Loss at step 4: 0.1078\n",
            "Loss at step 5: 0.0998\n",
            "Loss at step 6: 0.0932\n",
            "Loss at step 7: 0.0873\n",
            "Loss at step 8: 0.0819\n",
            "Loss at step 9: 0.0770\n",
            "Loss at step 10: 0.0725\n",
            "Loss at step 11: 0.0684\n",
            "Loss at step 12: 0.0647\n",
            "Loss at step 13: 0.0613\n",
            "Loss at step 14: 0.0582\n",
            "Loss at step 15: 0.0553\n",
            "Loss at step 16: 0.0527\n",
            "Loss at step 17: 0.0503\n",
            "Loss at step 18: 0.0482\n",
            "Loss at step 19: 0.0462\n",
            "Loss at step 20: 0.0444\n",
            "Loss at step 21: 0.0427\n",
            "Loss at step 22: 0.0412\n",
            "Loss at step 23: 0.0398\n",
            "Loss at step 24: 0.0385\n",
            "Loss at step 25: 0.0374\n",
            "Loss at step 26: 0.0363\n",
            "Loss at step 27: 0.0354\n",
            "Loss at step 28: 0.0345\n",
            "Loss at step 29: 0.0337\n",
            "Loss at step 30: 0.0329\n",
            "Loss at step 31: 0.0323\n",
            "Loss at step 32: 0.0317\n",
            "Loss at step 33: 0.0311\n",
            "Loss at step 34: 0.0306\n",
            "Loss at step 35: 0.0301\n",
            "Loss at step 36: 0.0297\n",
            "Loss at step 37: 0.0293\n",
            "Loss at step 38: 0.0289\n",
            "Loss at step 39: 0.0286\n"
          ]
        }
      ],
      "source": [
        "for step in range(40):\n",
        "    loss = training_step(inputs, targets)\n",
        "    print(f\"Loss at step {step}: {loss:.4f}\")"
      ]
    },
    {
      "cell_type": "code",
      "execution_count": null,
      "metadata": {
        "id": "WUx3JRpcoPwG",
        "colab": {
          "base_uri": "https://localhost:8080/",
          "height": 265
        },
        "outputId": "2f939ff9-ec3a-43ab-9d94-c68a7c00252b"
      },
      "outputs": [
        {
          "output_type": "display_data",
          "data": {
            "image/png": "[encoded data removed]",
            "text/plain": [
              "<Figure size 432x288 with 1 Axes>"
            ]
          },
          "metadata": {
            "needs_background": "light"
          }
        }
      ],
      "source": [
        "predictions = model(inputs)\n",
        "plt.scatter(inputs[:, 0], inputs[:, 1], c=predictions[:, 0] > 0.5)\n",
        "plt.show()"
      ]
    },
    {
      "cell_type": "code",
      "execution_count": null,
      "metadata": {
        "id": "4gAPlvPfoPwG",
        "colab": {
          "base_uri": "https://localhost:8080/",
          "height": 282
        },
        "outputId": "56ef2f89-075c-4e66-8cc5-1f8060e3cd12"
      },
      "outputs": [
        {
          "output_type": "execute_result",
          "data": {
            "text/plain": [
              "<matplotlib.collections.PathCollection at 0x7f40d6037cd0>"
            ]
          },
          "metadata": {},
          "execution_count": 29
        },
        {
          "output_type": "display_data",
          "data": {
            "image/png": "[encoded data removed]",
            "text/plain": [
              "<Figure size 432x288 with 1 Axes>"
            ]
          },
          "metadata": {
            "needs_background": "light"
          }
        }
      ],
      "source": [
        "x = np.linspace(-1, 4, 100)\n",
        "y = - W[0] /  W[1] * x + (0.5 - b) / W[1]\n",
        "plt.plot(x, y, \"-r\")\n",
        "plt.scatter(inputs[:, 0], inputs[:, 1], c=predictions[:, 0] > 0.5)"
      ]
    },
    {
      "cell_type": "markdown",
      "metadata": {
        "id": "0yqpXwPFoPwH"
      },
      "source": [
        "## Anatomy of a neural network: Understanding core Keras APIs"
      ]
    },
    {
      "cell_type": "markdown",
      "metadata": {
        "id": "8Rutsu6xoPwH"
      },
      "source": [
        "### Layers: The building blocks of deep learning"
      ]
    },
    {
      "cell_type": "markdown",
      "metadata": {
        "id": "eEj38J0AoPwH"
      },
      "source": [
        "#### The base Layer class in Keras"
      ]
    },
    {
      "cell_type": "markdown",
      "metadata": {
        "id": "buiDVre5oPwH"
      },
      "source": [
        "**A `Dense` layer implemented as a `Layer` subclass**"
      ]
    },
    {
      "cell_type": "code",
      "execution_count": null,
      "metadata": {
        "id": "v7Voa77XoPwH"
      },
      "outputs": [],
      "source": [
        "from tensorflow import keras\n",
        "\n",
        "class SimpleDense(keras.layers.Layer):\n",
        "\n",
        "    def __init__(self, units, activation=None):\n",
        "        super().__init__()\n",
        "        self.units = units\n",
        "        self.activation = activation\n",
        "\n",
        "    def build(self, input_shape):\n",
        "        input_dim = input_shape[-1]\n",
        "        self.W = self.add_weight(shape=(input_dim, self.units),\n",
        "                                 initializer=\"random_normal\")\n",
        "        self.b = self.add_weight(shape=(self.units,),\n",
        "                                 initializer=\"zeros\")\n",
        "\n",
        "    def call(self, inputs):\n",
        "        y = tf.matmul(inputs, self.W) + self.b\n",
        "        if self.activation is not None:\n",
        "            y = self.activation(y)\n",
        "        return y"
      ]
    },
    {
      "cell_type": "code",
      "execution_count": null,
      "metadata": {
        "id": "5JmjmYhuoPwH",
        "colab": {
          "base_uri": "https://localhost:8080/"
        },
        "outputId": "2e3a434a-06fa-42ae-d284-6adf6c6b891e"
      },
      "outputs": [
        {
          "output_type": "stream",
          "name": "stdout",
          "text": [
            "(2, 32)\n"
          ]
        }
      ],
      "source": [
        "my_dense = SimpleDense(units=32, activation=tf.nn.relu)\n",
        "input_tensor = tf.ones(shape=(2, 784))\n",
        "output_tensor = my_dense(input_tensor)\n",
        "print(output_tensor.shape)"
      ]
    },
    {
      "cell_type": "markdown",
      "metadata": {
        "id": "mbRLsUlLoPwH"
      },
      "source": [
        "#### Automatic shape inference: Building layers on the fly"
      ]
    },
    {
      "cell_type": "code",
      "execution_count": null,
      "metadata": {
        "id": "g8lP9w6ooPwH"
      },
      "outputs": [],
      "source": [
        "from tensorflow.keras import layers\n",
        "layer = layers.Dense(32, activation=\"relu\")"
      ]
    },
    {
      "cell_type": "code",
      "execution_count": null,
      "metadata": {
        "id": "rbyoHKmZoPwH"
      },
      "outputs": [],
      "source": [
        "from tensorflow.keras import models\n",
        "from tensorflow.keras import layers\n",
        "model = models.Sequential([\n",
        "    layers.Dense(32, activation=\"relu\"),\n",
        "    layers.Dense(32)\n",
        "])"
      ]
    },
    {
      "cell_type": "code",
      "execution_count": null,
      "metadata": {
        "id": "QfQBXVUooPwI"
      },
      "outputs": [],
      "source": [
        "model = keras.Sequential([\n",
        "    SimpleDense(32, activation=\"relu\"),\n",
        "    SimpleDense(64, activation=\"relu\"),\n",
        "    SimpleDense(32, activation=\"relu\"),\n",
        "    SimpleDense(10, activation=\"softmax\")\n",
        "])"
      ]
    },
    {
      "cell_type": "markdown",
      "metadata": {
        "id": "nUOT7HJYoPwI"
      },
      "source": [
        "### From layers to models"
      ]
    },
    {
      "cell_type": "markdown",
      "metadata": {
        "id": "yXlu69PyoPwI"
      },
      "source": [
        "### The \"compile\" step: Configuring the learning process"
      ]
    },
    {
      "cell_type": "code",
      "execution_count": null,
      "metadata": {
        "id": "DNUciYUboPwI"
      },
      "outputs": [],
      "source": [
        "model = keras.Sequential([keras.layers.Dense(1)])\n",
        "model.compile(optimizer=\"rmsprop\",\n",
        "              loss=\"mean_squared_error\",\n",
        "              metrics=[\"accuracy\"])"
      ]
    },
    {
      "cell_type": "code",
      "execution_count": null,
      "metadata": {
        "id": "Mnvgbty9oPwI"
      },
      "outputs": [],
      "source": [
        "model.compile(optimizer=keras.optimizers.RMSprop(),\n",
        "              loss=keras.losses.MeanSquaredError(),\n",
        "              metrics=[keras.metrics.BinaryAccuracy()])"
      ]
    },
    {
      "cell_type": "markdown",
      "metadata": {
        "id": "414hoYZBoPwI"
      },
      "source": [
        "### Picking a loss function"
      ]
    },
    {
      "cell_type": "markdown",
      "metadata": {
        "id": "T3r6yGYLoPwI"
      },
      "source": [
        "### Understanding the fit() method"
      ]
    },
    {
      "cell_type": "markdown",
      "metadata": {
        "id": "1dR3aOFFoPwI"
      },
      "source": [
        "**Calling `fit()` with NumPy data**"
      ]
    },
    {
      "cell_type": "code",
      "execution_count": null,
      "metadata": {
        "id": "KJmsju8KoPwI",
        "colab": {
          "base_uri": "https://localhost:8080/"
        },
        "outputId": "b6627c3b-96e1-4220-f187-cb094c6fc878"
      },
      "outputs": [
        {
          "output_type": "stream",
          "name": "stdout",
          "text": [
            "Epoch 1/5\n",
            "16/16 [==============================] - 0s 2ms/step - loss: 10.1697 - binary_accuracy: 0.0840\n",
            "Epoch 2/5\n",
            "16/16 [==============================] - 0s 1ms/step - loss: 9.7874 - binary_accuracy: 0.0855\n",
            "Epoch 3/5\n",
            "16/16 [==============================] - 0s 2ms/step - loss: 9.4647 - binary_accuracy: 0.0885\n",
            "Epoch 4/5\n",
            "16/16 [==============================] - 0s 2ms/step - loss: 9.1500 - binary_accuracy: 0.0935\n",
            "Epoch 5/5\n",
            "16/16 [==============================] - 0s 1ms/step - loss: 8.8454 - binary_accuracy: 0.0970\n"
          ]
        }
      ],
      "source": [
        "history = model.fit(\n",
        "    inputs,\n",
        "    targets,\n",
        "    epochs=5,\n",
        "    batch_size=128\n",
        ")"
      ]
    },
    {
      "cell_type": "code",
      "execution_count": null,
      "metadata": {
        "id": "yFl3wbiPoPwI",
        "colab": {
          "base_uri": "https://localhost:8080/"
        },
        "outputId": "48198db9-c1bf-4e51-acf3-995b3ee17a56"
      },
      "outputs": [
        {
          "output_type": "execute_result",
          "data": {
            "text/plain": [
              "{'binary_accuracy': [0.08399999886751175,\n",
              "  0.08550000190734863,\n",
              "  0.0885000005364418,\n",
              "  0.09350000321865082,\n",
              "  0.09700000286102295],\n",
              " 'loss': [10.169720649719238,\n",
              "  9.787364959716797,\n",
              "  9.464683532714844,\n",
              "  9.150038719177246,\n",
              "  8.845351219177246]}"
            ]
          },
          "metadata": {},
          "execution_count": 38
        }
      ],
      "source": [
        "history.history"
      ]
    },
    {
      "cell_type": "markdown",
      "metadata": {
        "id": "94Un0ui_oPwJ"
      },
      "source": [
        "### Monitoring loss and metrics on validation data"
      ]
    },
    {
      "cell_type": "markdown",
      "metadata": {
        "id": "iQp8ps97oPwJ"
      },
      "source": [
        "**Using the `validation_data` argument**"
      ]
    },
    {
      "cell_type": "code",
      "execution_count": null,
      "metadata": {
        "id": "tSunErgDoPwJ",
        "colab": {
          "base_uri": "https://localhost:8080/"
        },
        "outputId": "7ce3b5d7-6b54-4180-c93b-55f65f75c373"
      },
      "outputs": [
        {
          "output_type": "stream",
          "name": "stdout",
          "text": [
            "Epoch 1/5\n",
            "88/88 [==============================] - 1s 4ms/step - loss: 0.1167 - binary_accuracy: 0.9593 - val_loss: 0.0379 - val_binary_accuracy: 0.9983\n",
            "Epoch 2/5\n",
            "88/88 [==============================] - 0s 2ms/step - loss: 0.0719 - binary_accuracy: 0.9586 - val_loss: 0.0465 - val_binary_accuracy: 0.9900\n",
            "Epoch 3/5\n",
            "88/88 [==============================] - 0s 2ms/step - loss: 0.0745 - binary_accuracy: 0.9536 - val_loss: 0.4075 - val_binary_accuracy: 0.8533\n",
            "Epoch 4/5\n",
            "88/88 [==============================] - 0s 2ms/step - loss: 0.0786 - binary_accuracy: 0.9493 - val_loss: 0.0645 - val_binary_accuracy: 0.9567\n",
            "Epoch 5/5\n",
            "88/88 [==============================] - 0s 2ms/step - loss: 0.0777 - binary_accuracy: 0.9500 - val_loss: 0.0685 - val_binary_accuracy: 0.9700\n"
          ]
        },
        {
          "output_type": "execute_result",
          "data": {
            "text/plain": [
              "<keras.callbacks.History at 0x7f40d1adecd0>"
            ]
          },
          "metadata": {},
          "execution_count": 39
        }
      ],
      "source": [
        "model = keras.Sequential([keras.layers.Dense(1)])\n",
        "model.compile(optimizer=keras.optimizers.RMSprop(learning_rate=0.1),\n",
        "              loss=keras.losses.MeanSquaredError(),\n",
        "              metrics=[keras.metrics.BinaryAccuracy()])\n",
        "\n",
        "indices_permutation = np.random.permutation(len(inputs))\n",
        "shuffled_inputs = inputs[indices_permutation]\n",
        "shuffled_targets = targets[indices_permutation]\n",
        "\n",
        "num_validation_samples = int(0.3 * len(inputs))\n",
        "val_inputs = shuffled_inputs[:num_validation_samples]\n",
        "val_targets = shuffled_targets[:num_validation_samples]\n",
        "training_inputs = shuffled_inputs[num_validation_samples:]\n",
        "training_targets = shuffled_targets[num_validation_samples:]\n",
        "model.fit(\n",
        "    training_inputs,\n",
        "    training_targets,\n",
        "    epochs=5,\n",
        "    batch_size=16,\n",
        "    validation_data=(val_inputs, val_targets)\n",
        ")"
      ]
    },
    {
      "cell_type": "markdown",
      "metadata": {
        "id": "UC7SXblPoPwJ"
      },
      "source": [
        "### Inference: Using a model after training"
      ]
    },
    {
      "cell_type": "code",
      "execution_count": null,
      "metadata": {
        "id": "69InwgTIoPwJ",
        "colab": {
          "base_uri": "https://localhost:8080/"
        },
        "outputId": "111466b2-2ffa-4459-a233-c4786c5e1937"
      },
      "outputs": [
        {
          "output_type": "stream",
          "name": "stdout",
          "text": [
            "[[1.4229248 ]\n",
            " [1.1668613 ]\n",
            " [0.33923623]\n",
            " [1.4252131 ]\n",
            " [1.1889231 ]\n",
            " [0.3233322 ]\n",
            " [0.19376889]\n",
            " [0.50789195]\n",
            " [1.0005254 ]\n",
            " [1.1136968 ]]\n"
          ]
        }
      ],
      "source": [
        "predictions = model.predict(val_inputs, batch_size=128)\n",
        "print(predictions[:10])"
      ]
    },
    {
      "cell_type": "markdown",
      "metadata": {
        "id": "sSwsVHWNoPwJ"
      },
      "source": [
        "## Summary"
      ]
    }
  ],
  "metadata": {
    "colab": {
      "collapsed_sections": [],
      "name": "Intro_to_keras_and_tf.ipynb",
      "provenance": []
    },
    "kernelspec": {
      "display_name": "Python 3",
      "language": "python",
      "name": "python3"
    },
    "language_info": {
      "codemirror_mode": {
        "name": "ipython",
        "version": 3
      },
      "file_extension": ".py",
      "mimetype": "text/x-python",
      "name": "python",
      "nbconvert_exporter": "python",
      "pygments_lexer": "ipython3",
      "version": "3.7.0"
    }
  },
  "nbformat": 4,
  "nbformat_minor": 0
}