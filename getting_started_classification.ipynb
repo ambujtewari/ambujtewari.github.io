{
  "cells": [
    {
      "cell_type": "markdown",
      "metadata": {
        "id": "VfIweEhQ0E3g"
      },
      "source": [
        "**Notebook credit**: based on the F. Chollet's original notebook [here](https://github.com/fchollet/deep-learning-with-python-notebooks/blob/master/chapter02_mathematical-building-blocks.ipynb)."
      ]
    },
    {
      "cell_type": "markdown",
      "metadata": {
        "id": "aOWjaa1B0E3k"
      },
      "source": [
        "## A 10 class classification problem\n",
        "\n",
        "\n",
        "- We will classify grayscale images of handwritten digits (28 × 28 pixels) into 10 categories (0 through 9)\n",
        "- We’ll use the MNIST dataset, a classic in the machine learning community\n",
        "- Has 60,000 training images, plus 10,000 test images\n",
        "- Was assembled by the National Institute of Standards and Technology (the NIST in MNIST) in the 1980s\n",
        "- You can think of working with MNIST as the “Hello World” of deep learning"
      ]
    },
    {
      "cell_type": "markdown",
      "metadata": {
        "id": "QV0IFlNU0E3k"
      },
      "source": [
        "**Loading the MNIST dataset in Keras**"
      ]
    },
    {
      "cell_type": "code",
      "source": [
        "import tensorflow as tf\n",
        "import numpy as np\n",
        "import matplotlib.pyplot as plt"
      ],
      "metadata": {
        "id": "sqfqM4NV2Hh-"
      },
      "execution_count": 1,
      "outputs": []
    },
    {
      "cell_type": "markdown",
      "source": [
        "The MNIST dataset comes preloaded in Keras in four NumPy\n",
        "arrays."
      ],
      "metadata": {
        "id": "-zebJuq1nkwc"
      }
    },
    {
      "cell_type": "code",
      "execution_count": 2,
      "metadata": {
        "id": "oSN53pld0E3l"
      },
      "outputs": [],
      "source": [
        "from tensorflow.keras.datasets import mnist\n",
        "(train_images, train_labels), (test_images, test_labels) = mnist.load_data()"
      ]
    },
    {
      "cell_type": "code",
      "execution_count": 3,
      "metadata": {
        "colab": {
          "base_uri": "https://localhost:8080/"
        },
        "id": "1PXzQU9i0E3m",
        "outputId": "43343891-2238-4a88-d182-604deb51c63e"
      },
      "outputs": [
        {
          "output_type": "execute_result",
          "data": {
            "text/plain": [
              "(60000, 28, 28)"
            ]
          },
          "metadata": {},
          "execution_count": 3
        }
      ],
      "source": [
        "train_images.shape # images are encoded as NumPy arrays"
      ]
    },
    {
      "cell_type": "code",
      "execution_count": 4,
      "metadata": {
        "colab": {
          "base_uri": "https://localhost:8080/"
        },
        "id": "fgLQ_aht0E3m",
        "outputId": "0276e195-1ff1-472e-c87c-ae41c9284aba"
      },
      "outputs": [
        {
          "output_type": "execute_result",
          "data": {
            "text/plain": [
              "60000"
            ]
          },
          "metadata": {},
          "execution_count": 4
        }
      ],
      "source": [
        "len(train_labels)"
      ]
    },
    {
      "cell_type": "code",
      "execution_count": 5,
      "metadata": {
        "colab": {
          "base_uri": "https://localhost:8080/"
        },
        "id": "d9mCNLSW0E3n",
        "outputId": "f7b51416-db12-425c-859b-6b96a6b36296"
      },
      "outputs": [
        {
          "output_type": "execute_result",
          "data": {
            "text/plain": [
              "array([5, 0, 4, ..., 5, 6, 8], dtype=uint8)"
            ]
          },
          "metadata": {},
          "execution_count": 5
        }
      ],
      "source": [
        "train_labels # labels are encoded as an array of digits"
      ]
    },
    {
      "cell_type": "code",
      "execution_count": 6,
      "metadata": {
        "colab": {
          "base_uri": "https://localhost:8080/"
        },
        "id": "jy6GuBjV0E3n",
        "outputId": "02817bfa-4a4a-43c6-e853-3ba60b58a568"
      },
      "outputs": [
        {
          "output_type": "execute_result",
          "data": {
            "text/plain": [
              "(10000, 28, 28)"
            ]
          },
          "metadata": {},
          "execution_count": 6
        }
      ],
      "source": [
        "test_images.shape"
      ]
    },
    {
      "cell_type": "code",
      "execution_count": 7,
      "metadata": {
        "colab": {
          "base_uri": "https://localhost:8080/"
        },
        "id": "s0tIZn0e0E3o",
        "outputId": "d2da12ef-5d62-4a8c-b78d-eb6b6de3a200"
      },
      "outputs": [
        {
          "output_type": "execute_result",
          "data": {
            "text/plain": [
              "10000"
            ]
          },
          "metadata": {},
          "execution_count": 7
        }
      ],
      "source": [
        "len(test_labels)"
      ]
    },
    {
      "cell_type": "code",
      "execution_count": 8,
      "metadata": {
        "colab": {
          "base_uri": "https://localhost:8080/"
        },
        "id": "oJuN4SDf0E3p",
        "outputId": "1402c36d-cffe-49f8-8dc5-0d9f7615f7e3"
      },
      "outputs": [
        {
          "output_type": "execute_result",
          "data": {
            "text/plain": [
              "array([7, 2, 1, ..., 4, 5, 6], dtype=uint8)"
            ]
          },
          "metadata": {},
          "execution_count": 8
        }
      ],
      "source": [
        "test_labels"
      ]
    },
    {
      "cell_type": "markdown",
      "source": [
        "**Workflow**\n",
        "\n",
        "1. We’ll feed the neural network the training data, `train_images` and `train_labels`\n",
        "2. The network will then learn to associate images and labels.\n",
        "3. We’ll ask the network to produce predictions for `test_images`, and we’ll verify whether these predictions match the labels from `test_labels`."
      ],
      "metadata": {
        "id": "_UQ9LOCwob-c"
      }
    },
    {
      "cell_type": "code",
      "source": [
        "# Don't worry about the details of the plotting commands below. You won't be tested on this stuff.\n",
        "plt.figure(figsize=(10,10))\n",
        "for i in range(25):\n",
        "    plt.subplot(5,5,i+1)\n",
        "    plt.xticks([])\n",
        "    plt.yticks([])\n",
        "    plt.grid(False)\n",
        "    plt.imshow(train_images[i], cmap=plt.cm.binary)\n",
        "    plt.xlabel(train_labels[i])\n",
        "plt.show()"
      ],
      "metadata": {
        "colab": {
          "base_uri": "https://localhost:8080/",
          "height": 589
        },
        "id": "6To209GK2QMW",
        "outputId": "c9b6b62b-2ce7-4470-b524-fdb278b626a3"
      },
      "execution_count": 9,
      "outputs": [
        {
          "output_type": "display_data",
          "data": {
            "image/png": "[encoded data removed]",
            "text/plain": [
              "<Figure size 720x720 with 25 Axes>"
            ]
          },
          "metadata": {}
        }
      ]
    },
    {
      "cell_type": "markdown",
      "metadata": {
        "id": "U1Szq22X0E3p"
      },
      "source": [
        "**The network architecture**"
      ]
    },
    {
      "cell_type": "code",
      "execution_count": 10,
      "metadata": {
        "id": "j9UPKiMf0E3p"
      },
      "outputs": [],
      "source": [
        "from tensorflow import keras\n",
        "from tensorflow.keras import layers\n",
        "model = keras.Sequential([\n",
        "    layers.Flatten(input_shape=(28, 28)),\n",
        "    layers.Dense(512, activation=\"relu\"),\n",
        "    layers.Dense(10, activation=\"softmax\")\n",
        "])"
      ]
    },
    {
      "cell_type": "markdown",
      "source": [
        "\n",
        "**Layers**\n",
        "\n",
        "- The core building block of neural networks is the *layer*\n",
        "- Data goes into a layer, and it comes out in a more useful form\n",
        "- Layers extract representations out of the data fed into them—hopefully, representations that are more meaningful for the problem at hand\n",
        "- Deep learning consists of chaining together simple layers\n",
        "\n",
        "**Our model above**\n",
        "\n",
        "- First layer is *not trainable*, just reshapes the input\n",
        "- Next comes a sequence of two `Dense` layers\n",
        "- These are densely connected (also called _fully connected_) neural layers\n",
        "- The last layer is a 10-way softmax classification layer\n",
        "- It will return an array of 10 probability scores (summing to 1)\n",
        "- Each score will be the probability that the current digit image belongs to one of our 10 digit classes\n",
        "- Next let's look at our model summary\n",
        "- Can you figure out the parameter count from layer shapes?"
      ],
      "metadata": {
        "id": "YWL7b-nbo18R"
      }
    },
    {
      "cell_type": "code",
      "source": [
        "model.summary()"
      ],
      "metadata": {
        "colab": {
          "base_uri": "https://localhost:8080/"
        },
        "id": "iP3R9mmy2lq9",
        "outputId": "8ea7d595-560e-4d18-df81-6a7b4f4922bd"
      },
      "execution_count": 11,
      "outputs": [
        {
          "output_type": "stream",
          "name": "stdout",
          "text": [
            "Model: \"sequential\"\n",
            "_________________________________________________________________\n",
            " Layer (type)                Output Shape              Param #   \n",
            "=================================================================\n",
            " flatten (Flatten)           (None, 784)               0         \n",
            "                                                                 \n",
            " dense (Dense)               (None, 512)               401920    \n",
            "                                                                 \n",
            " dense_1 (Dense)             (None, 10)                5130      \n",
            "                                                                 \n",
            "=================================================================\n",
            "Total params: 407,050\n",
            "Trainable params: 407,050\n",
            "Non-trainable params: 0\n",
            "_________________________________________________________________\n"
          ]
        }
      ]
    },
    {
      "cell_type": "markdown",
      "metadata": {
        "id": "fxfTKrt10E3q"
      },
      "source": [
        "**The compilation step**\n",
        "\n",
        "This step involves choosing:\n",
        "- An *optimizer*—The mechanism through which the model will update itself based on the training data it sees, so as to improve its performance\n",
        "- A *loss function*—How the model will be able to measure its performance on the training data, and thus how it will be able to steer itself in the right direction.\n",
        "-*Metrics to monitor during training and testing*—Here, we’ll only care about accuracy (the fraction of the images that were correctly classified)."
      ]
    },
    {
      "cell_type": "code",
      "execution_count": 12,
      "metadata": {
        "id": "Ei4q4gHi0E3q"
      },
      "outputs": [],
      "source": [
        "model.compile(optimizer=\"rmsprop\",\n",
        "              loss=\"sparse_categorical_crossentropy\",\n",
        "              metrics=[\"accuracy\"])"
      ]
    },
    {
      "cell_type": "markdown",
      "metadata": {
        "id": "PXjbJIzC0E3q"
      },
      "source": [
        "**Preparing the image data**\n",
        "\n",
        "- Previously, our training images were stored in an array of type `uint8` with values in the [0, 255] interval\n",
        "- We’ll transform it into a `float64` array with values between 0 and 1."
      ]
    },
    {
      "cell_type": "code",
      "execution_count": 13,
      "metadata": {
        "id": "Cqvcsscu0E3q",
        "outputId": "62d29642-fb7e-4f0d-dfc0-bcc03f7769f3",
        "colab": {
          "base_uri": "https://localhost:8080/"
        }
      },
      "outputs": [
        {
          "output_type": "stream",
          "name": "stdout",
          "text": [
            "train_images is previously of type uint8\n",
            "train_images is now of type float64\n"
          ]
        }
      ],
      "source": [
        "print(f\"train_images is previously of type {train_images.dtype}\")\n",
        "train_images = train_images / 255.0\n",
        "test_images = test_images / 255.0\n",
        "print(f\"train_images is now of type {train_images.dtype}\")"
      ]
    },
    {
      "cell_type": "markdown",
      "metadata": {
        "id": "DaXyToC50E3r"
      },
      "source": [
        "**\"Fitting\" the model**"
      ]
    },
    {
      "cell_type": "code",
      "execution_count": 14,
      "metadata": {
        "colab": {
          "base_uri": "https://localhost:8080/"
        },
        "id": "U33DhB-c0E3r",
        "outputId": "46784225-8929-4f67-b8e2-b1d75312dc5b"
      },
      "outputs": [
        {
          "output_type": "stream",
          "name": "stdout",
          "text": [
            "Epoch 1/5\n",
            "469/469 [==============================] - 8s 15ms/step - loss: 0.2564 - accuracy: 0.9260\n",
            "Epoch 2/5\n",
            "469/469 [==============================] - 6s 13ms/step - loss: 0.1035 - accuracy: 0.9686\n",
            "Epoch 3/5\n",
            "469/469 [==============================] - 4s 9ms/step - loss: 0.0682 - accuracy: 0.9791\n",
            "Epoch 4/5\n",
            "469/469 [==============================] - 4s 8ms/step - loss: 0.0483 - accuracy: 0.9855\n",
            "Epoch 5/5\n",
            "469/469 [==============================] - 4s 8ms/step - loss: 0.0372 - accuracy: 0.9888\n"
          ]
        },
        {
          "output_type": "execute_result",
          "data": {
            "text/plain": [
              "<keras.callbacks.History at 0x7f60861d9250>"
            ]
          },
          "metadata": {},
          "execution_count": 14
        }
      ],
      "source": [
        "model.fit(train_images, train_labels, epochs=5, batch_size=128)"
      ]
    },
    {
      "cell_type": "markdown",
      "source": [
        "Two quantities are displayed during training:\n",
        "\n",
        "- the loss of the model over the training data\n",
        "- the accuracy of the model over the training data\n",
        "- we quickly reach an accuracy of 0.989 (98.9%) on the training data"
      ],
      "metadata": {
        "id": "R-jPDeZ2rSyS"
      }
    },
    {
      "cell_type": "markdown",
      "metadata": {
        "id": "7M06oKFz0E3r"
      },
      "source": [
        "**Using the model to make predictions**\n",
        "\n",
        "- Now we use a trained model to predict class probabilities for _new_ digits\n",
        "- These images in the test set weren’t part of the training data"
      ]
    },
    {
      "cell_type": "code",
      "execution_count": 15,
      "metadata": {
        "colab": {
          "base_uri": "https://localhost:8080/"
        },
        "id": "Nv9g3r9b0E3r",
        "outputId": "0c3aea21-588c-47da-ff7a-6215eaff96b5"
      },
      "outputs": [
        {
          "output_type": "execute_result",
          "data": {
            "text/plain": [
              "array([8.22440871e-09, 1.41062162e-11, 2.54116276e-06, 1.22478974e-04,\n",
              "       1.37547309e-12, 8.08775269e-08, 9.79081318e-15, 9.99874115e-01,\n",
              "       1.08643036e-07, 6.51522669e-07], dtype=float32)"
            ]
          },
          "metadata": {},
          "execution_count": 15
        }
      ],
      "source": [
        "predictions = model.predict(test_images)\n",
        "predictions[0]"
      ]
    },
    {
      "cell_type": "markdown",
      "source": [
        "- Each number of index `i` in the array above corresponds to the probability that digit image `test_digits[0]` belongs to class `i`.\n",
        "- This first test digit has the highest probability score (almost 1) at index 7\n",
        "- So according to our model, it must be a 7"
      ],
      "metadata": {
        "id": "pdKmGxmkr6uC"
      }
    },
    {
      "cell_type": "code",
      "execution_count": 16,
      "metadata": {
        "colab": {
          "base_uri": "https://localhost:8080/"
        },
        "id": "5pkYqIyA0E3r",
        "outputId": "421d49d0-70ca-4e31-98d2-23bd54d9ccd1"
      },
      "outputs": [
        {
          "output_type": "execute_result",
          "data": {
            "text/plain": [
              "7"
            ]
          },
          "metadata": {},
          "execution_count": 16
        }
      ],
      "source": [
        "predictions[0].argmax()"
      ]
    },
    {
      "cell_type": "code",
      "execution_count": 17,
      "metadata": {
        "colab": {
          "base_uri": "https://localhost:8080/"
        },
        "id": "UfCRIw9Y0E3s",
        "outputId": "0aad3f4f-a92b-4ecf-faca-b5238545e3a8"
      },
      "outputs": [
        {
          "output_type": "execute_result",
          "data": {
            "text/plain": [
              "0.9998741"
            ]
          },
          "metadata": {},
          "execution_count": 17
        }
      ],
      "source": [
        "predictions[0][7]"
      ]
    },
    {
      "cell_type": "markdown",
      "source": [
        "Predicted label agrees with the true label."
      ],
      "metadata": {
        "id": "TUnTCcFasSV9"
      }
    },
    {
      "cell_type": "code",
      "execution_count": 18,
      "metadata": {
        "colab": {
          "base_uri": "https://localhost:8080/"
        },
        "id": "nTx00C200E3s",
        "outputId": "2e4cc82a-56a0-4d3f-f8af-8634a6cc9d01"
      },
      "outputs": [
        {
          "output_type": "execute_result",
          "data": {
            "text/plain": [
              "7"
            ]
          },
          "metadata": {},
          "execution_count": 18
        }
      ],
      "source": [
        "test_labels[0]"
      ]
    },
    {
      "cell_type": "markdown",
      "metadata": {
        "id": "tQe7_edf0E3s"
      },
      "source": [
        "**Evaluating the model on new data**\n",
        "\n",
        "Let's compute the average accuracy over the entire test set."
      ]
    },
    {
      "cell_type": "code",
      "execution_count": 19,
      "metadata": {
        "colab": {
          "base_uri": "https://localhost:8080/"
        },
        "id": "9_p6ZXmb0E3s",
        "outputId": "48527d9c-0347-4330-f05a-acb4f009bc8c"
      },
      "outputs": [
        {
          "output_type": "stream",
          "name": "stdout",
          "text": [
            "313/313 [==============================] - 1s 2ms/step - loss: 0.0737 - accuracy: 0.9773\n",
            "test_acc: 0.9772999882698059\n"
          ]
        }
      ],
      "source": [
        "test_loss, test_acc = model.evaluate(test_images, test_labels)\n",
        "print(f\"test_acc: {test_acc}\")"
      ]
    },
    {
      "cell_type": "markdown",
      "source": [
        "- The test-set accuracy turns out to be just under 98%\n",
        "- That’s a bit lower than the training-set accuracy (98.9%)\n",
        "- This gap between training accuracy and test accuracy is an example of _overfitting_:\n",
        "  - the fact that machine learning models tend to perform worse on new data than on their training data\n",
        "  - we will look at overfitting in more detail later in the course"
      ],
      "metadata": {
        "id": "xTJ4A8nzs7K-"
      }
    },
    {
      "cell_type": "markdown",
      "source": [
        "**Visualizing first few predictions and first few mistakes**\n",
        "\n",
        "_Note: this section is for visualization purposes only. You will not be tested on this stuff_"
      ],
      "metadata": {
        "id": "ajukZaOC9Rj1"
      }
    },
    {
      "cell_type": "code",
      "source": [
        "def plot_image(i, predictions_array, true_label, img):\n",
        "  true_label, img = true_label[i], img[i]\n",
        "  plt.grid(False)\n",
        "  plt.xticks([])\n",
        "  plt.yticks([])\n",
        "\n",
        "  plt.imshow(img, cmap=plt.cm.binary)\n",
        "\n",
        "  predicted_label = np.argmax(predictions_array)\n",
        "  if predicted_label == true_label:\n",
        "    color = 'blue'\n",
        "  else:\n",
        "    color = 'red'\n",
        "\n",
        "  plt.xlabel(\"{} {:2.0f}% ({})\".format(predicted_label,\n",
        "                                100*np.max(predictions_array),\n",
        "                                true_label),\n",
        "                                color=color)\n",
        "\n",
        "def plot_value_array(i, predictions_array, true_label):\n",
        "  true_label = true_label[i]\n",
        "  plt.grid(False)\n",
        "  plt.xticks(range(10))\n",
        "  plt.yticks([])\n",
        "  thisplot = plt.bar(range(10), predictions_array, color=\"#777777\")\n",
        "  plt.ylim([0, 1])\n",
        "  predicted_label = np.argmax(predictions_array)\n",
        "\n",
        "  thisplot[predicted_label].set_color('red')\n",
        "  thisplot[true_label].set_color('blue')"
      ],
      "metadata": {
        "id": "-pdncE6o9iRu"
      },
      "execution_count": 20,
      "outputs": []
    },
    {
      "cell_type": "code",
      "source": [
        "# plot first few predictions\n",
        "\n",
        "num_rows = 5\n",
        "num_cols = 3\n",
        "num_images = num_rows*num_cols\n",
        "plt.figure(figsize=(2*2*num_cols, 2*num_rows))\n",
        "for i in range(num_images):\n",
        "  plt.subplot(num_rows, 2*num_cols, 2*i+1)\n",
        "  plot_image(i, predictions[i], test_labels, test_images)\n",
        "  plt.subplot(num_rows, 2*num_cols, 2*i+2)\n",
        "  plot_value_array(i, predictions[i], test_labels)\n",
        "plt.tight_layout()\n",
        "plt.show()"
      ],
      "metadata": {
        "colab": {
          "base_uri": "https://localhost:8080/",
          "height": 729
        },
        "id": "2aOvIsUc9vt5",
        "outputId": "838e4503-3e1f-4971-f729-3d8c5ab288bb"
      },
      "execution_count": 21,
      "outputs": [
        {
          "output_type": "display_data",
          "data": {
            "image/png": "[encoded data removed]",
            "text/plain": [
              "<Figure size 864x720 with 30 Axes>"
            ]
          },
          "metadata": {
            "needs_background": "light"
          }
        }
      ]
    },
    {
      "cell_type": "code",
      "source": [
        "# plot first few mistakes\n",
        "\n",
        "num_rows = 5\n",
        "num_cols = 3\n",
        "i, mistakes = 0, 0\n",
        "num_images = num_rows*num_cols\n",
        "plt.figure(figsize=(2*2*num_cols, 2*num_rows))\n",
        "while mistakes < num_rows*num_cols:\n",
        "  if predictions[i].argmax() != test_labels[i]: # plot only if prediction incorrect\n",
        "    plt.subplot(num_rows, 2*num_cols, 2*mistakes+1)\n",
        "    plot_image(i, predictions[i], test_labels, test_images)\n",
        "    plt.subplot(num_rows, 2*num_cols, 2*mistakes+2)\n",
        "    plot_value_array(i, predictions[i], test_labels)\n",
        "    mistakes += 1\n",
        "  i = i + 1\n",
        "plt.tight_layout()\n",
        "plt.show()"
      ],
      "metadata": {
        "colab": {
          "base_uri": "https://localhost:8080/",
          "height": 729
        },
        "id": "ltnqZ_g0-wxC",
        "outputId": "80866468-d1bc-4821-b252-c0ad0506bfd2"
      },
      "execution_count": 22,
      "outputs": [
        {
          "output_type": "display_data",
          "data": {
            "image/png": "[encoded data removed]",
            "text/plain": [
              "<Figure size 864x720 with 30 Axes>"
            ]
          },
          "metadata": {
            "needs_background": "light"
          }
        }
      ]
    }
  ],
  "metadata": {
    "colab": {
      "collapsed_sections": [],
      "name": "getting_started_classification.ipynb",
      "provenance": []
    },
    "kernelspec": {
      "display_name": "Python 3",
      "language": "python",
      "name": "python3"
    },
    "language_info": {
      "codemirror_mode": {
        "name": "ipython",
        "version": 3
      },
      "file_extension": ".py",
      "mimetype": "text/x-python",
      "name": "python",
      "nbconvert_exporter": "python",
      "pygments_lexer": "ipython3",
      "version": "3.7.0"
    }
  },
  "nbformat": 4,
  "nbformat_minor": 0
}